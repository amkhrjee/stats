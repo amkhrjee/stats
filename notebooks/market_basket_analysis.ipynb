{
 "cells": [
  {
   "cell_type": "markdown",
   "id": "3f3a7e86",
   "metadata": {},
   "source": [
    "The goal is to find joint values of variables $X = (X_1, X_2, ..., X_p)$ that appear most frequenty in the dataset.\n",
    "\n",
    "Read: https://www.kaggle.com/code/xvivancos/market-basket-analysis"
   ]
  },
  {
   "cell_type": "code",
   "execution_count": 15,
   "id": "e92780de",
   "metadata": {},
   "outputs": [],
   "source": [
    "import numpy as np\n",
    "import pandas as pd\n",
    "import matplotlib.pyplot as plt"
   ]
  },
  {
   "cell_type": "code",
   "execution_count": 16,
   "id": "f68e5595",
   "metadata": {},
   "outputs": [
    {
     "data": {
      "text/html": [
       "<div>\n",
       "<style scoped>\n",
       "    .dataframe tbody tr th:only-of-type {\n",
       "        vertical-align: middle;\n",
       "    }\n",
       "\n",
       "    .dataframe tbody tr th {\n",
       "        vertical-align: top;\n",
       "    }\n",
       "\n",
       "    .dataframe thead th {\n",
       "        text-align: right;\n",
       "    }\n",
       "</style>\n",
       "<table border=\"1\" class=\"dataframe\">\n",
       "  <thead>\n",
       "    <tr style=\"text-align: right;\">\n",
       "      <th></th>\n",
       "      <th>Date</th>\n",
       "      <th>Time</th>\n",
       "      <th>Transaction</th>\n",
       "      <th>Item</th>\n",
       "    </tr>\n",
       "  </thead>\n",
       "  <tbody>\n",
       "    <tr>\n",
       "      <th>0</th>\n",
       "      <td>10/30/2016</td>\n",
       "      <td>9:58:11</td>\n",
       "      <td>1</td>\n",
       "      <td>Bread</td>\n",
       "    </tr>\n",
       "    <tr>\n",
       "      <th>1</th>\n",
       "      <td>10/30/2016</td>\n",
       "      <td>10:05:34</td>\n",
       "      <td>2</td>\n",
       "      <td>Scandinavian</td>\n",
       "    </tr>\n",
       "    <tr>\n",
       "      <th>2</th>\n",
       "      <td>10/30/2016</td>\n",
       "      <td>10:05:34</td>\n",
       "      <td>2</td>\n",
       "      <td>Scandinavian</td>\n",
       "    </tr>\n",
       "    <tr>\n",
       "      <th>3</th>\n",
       "      <td>10/30/2016</td>\n",
       "      <td>10:07:57</td>\n",
       "      <td>3</td>\n",
       "      <td>Hot chocolate</td>\n",
       "    </tr>\n",
       "    <tr>\n",
       "      <th>4</th>\n",
       "      <td>10/30/2016</td>\n",
       "      <td>10:07:57</td>\n",
       "      <td>3</td>\n",
       "      <td>Jam</td>\n",
       "    </tr>\n",
       "  </tbody>\n",
       "</table>\n",
       "</div>"
      ],
      "text/plain": [
       "         Date      Time  Transaction           Item\n",
       "0  10/30/2016   9:58:11            1          Bread\n",
       "1  10/30/2016  10:05:34            2   Scandinavian\n",
       "2  10/30/2016  10:05:34            2   Scandinavian\n",
       "3  10/30/2016  10:07:57            3  Hot chocolate\n",
       "4  10/30/2016  10:07:57            3            Jam"
      ]
     },
     "execution_count": 16,
     "metadata": {},
     "output_type": "execute_result"
    }
   ],
   "source": [
    "data = pd.read_csv(\"../BreadBasket_DMS.csv\")\n",
    "\n",
    "data.head()"
   ]
  },
  {
   "cell_type": "code",
   "execution_count": 17,
   "id": "817614f5",
   "metadata": {},
   "outputs": [
    {
     "data": {
      "text/plain": [
       "<Axes: xlabel='Item', ylabel='Absolute Frequency'>"
      ]
     },
     "execution_count": 17,
     "metadata": {},
     "output_type": "execute_result"
    },
    {
     "data": {
      "image/png": "[encoded data removed]",
      "text/plain": [
       "<Figure size 640x480 with 1 Axes>"
      ]
     },
     "metadata": {},
     "output_type": "display_data"
    }
   ],
   "source": [
    "data[\"Item\"].value_counts().head(15).plot(\n",
    "    kind=\"bar\", xlabel=\"Item\", ylabel=\"Absolute Frequency\"\n",
    ")"
   ]
  },
  {
   "cell_type": "markdown",
   "id": "9ffc3e92",
   "metadata": {},
   "source": [
    "## A Priori Algorithm\n",
    "\n",
    "The first step in order to create a set of association rules is to determine the optimal thresholds for support and confidence. If we set these values too low, then the algorithm will take longer to execute and we will get a lot of rules (most of them will not be useful)."
   ]
  },
  {
   "cell_type": "code",
   "execution_count": 29,
   "id": "7559ff66",
   "metadata": {},
   "outputs": [],
   "source": [
    "from efficient_apriori import apriori\n",
    "\n",
    "transactions = (\n",
    "    data.drop([\"Date\", \"Time\"], axis=1, inplace=False)\n",
    "    .groupby(\"Transaction\", as_index=True)[\"Item\"]\n",
    "    .agg(list)\n",
    ")\n",
    "\n",
    "\n",
    "itemsets, rules = apriori(transactions, min_support=0.01, min_confidence=0.5)"
   ]
  },
  {
   "cell_type": "code",
   "execution_count": null,
   "id": "c581070b",
   "metadata": {},
   "outputs": [
    {
     "name": "stdout",
     "output_type": "stream",
     "text": [
      "Alfajores => Coffee\t0.541\t 0.020\t 1.143\n",
      "Cake => Coffee\t0.527\t 0.054\t 1.110\n",
      "Cookies => Coffee\t0.518\t 0.028\t 1.090\n",
      "Hot chocolate => Coffee\t0.507\t 0.029\t 1.065\n",
      "Juice => Coffee\t0.534\t 0.020\t 1.127\n",
      "Medialuna => Coffee\t0.569\t 0.035\t 1.219\n",
      "NONE => Coffee\t0.533\t 0.042\t 1.123\n",
      "Pastry => Coffee\t0.552\t 0.047\t 1.172\n",
      "Sandwich => Coffee\t0.532\t 0.038\t 1.122\n",
      "Scone => Coffee\t0.523\t 0.018\t 1.100\n",
      "Spanish Brunch => Coffee\t0.599\t 0.011\t 1.308\n",
      "Toast => Coffee\t0.704\t 0.024\t 1.776\n"
     ]
    }
   ],
   "source": [
    "for rule in rules:\n",
    "    print(\n",
    "        f\"{rule.lhs[0]} => {rule.rhs[0]}\\t{rule.confidence:0.3f}\\t{rule.support: 0.3f}\\t{rule.conviction: 0.3f}\"\n",
    "    )"
   ]
  }
 ],
 "metadata": {
  "kernelspec": {
   "display_name": "stats",
   "language": "python",
   "name": "python3"
  },
  "language_info": {
   "codemirror_mode": {
    "name": "ipython",
    "version": 3
   },
   "file_extension": ".py",
   "mimetype": "text/x-python",
   "name": "python",
   "nbconvert_exporter": "python",
   "pygments_lexer": "ipython3",
   "version": "3.13.6"
  }
 },
 "nbformat": 4,
 "nbformat_minor": 5
}
