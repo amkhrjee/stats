{
 "cells": [
  {
   "cell_type": "code",
   "execution_count": 4,
   "id": "dbb590d9",
   "metadata": {},
   "outputs": [],
   "source": [
    "from patsy import dmatrix, dmatrices, demo_data"
   ]
  },
  {
   "cell_type": "code",
   "execution_count": 2,
   "id": "f92abf5e",
   "metadata": {},
   "outputs": [
    {
     "data": {
      "text/plain": [
       "{'a': ['a1', 'a1', 'a2', 'a2', 'a1', 'a1', 'a2', 'a2'],\n",
       " 'b': ['b1', 'b2', 'b1', 'b2', 'b1', 'b2', 'b1', 'b2'],\n",
       " 'x1': array([ 1.76405235,  0.40015721,  0.97873798,  2.2408932 ,  1.86755799,\n",
       "        -0.97727788,  0.95008842, -0.15135721]),\n",
       " 'x2': array([-0.10321885,  0.4105985 ,  0.14404357,  1.45427351,  0.76103773,\n",
       "         0.12167502,  0.44386323,  0.33367433]),\n",
       " 'y': array([ 1.49407907, -0.20515826,  0.3130677 , -0.85409574, -2.55298982,\n",
       "         0.6536186 ,  0.8644362 , -0.74216502])}"
      ]
     },
     "execution_count": 2,
     "metadata": {},
     "output_type": "execute_result"
    }
   ],
   "source": [
    "data = demo_data(\"a\", \"b\", \"x1\", \"x2\", \"y\")\n",
    "\n",
    "data"
   ]
  },
  {
   "cell_type": "code",
   "execution_count": 6,
   "id": "1148d47d",
   "metadata": {},
   "outputs": [],
   "source": [
    "outcome, predictors = dmatrices(\"y ~ x1 + x2\", data)"
   ]
  },
  {
   "cell_type": "code",
   "execution_count": 7,
   "id": "a0f12469",
   "metadata": {},
   "outputs": [
    {
     "data": {
      "text/plain": [
       "DesignMatrix with shape (8, 1)\n",
       "         y\n",
       "   1.49408\n",
       "  -0.20516\n",
       "   0.31307\n",
       "  -0.85410\n",
       "  -2.55299\n",
       "   0.65362\n",
       "   0.86444\n",
       "  -0.74217\n",
       "  Terms:\n",
       "    'y' (column 0)"
      ]
     },
     "execution_count": 7,
     "metadata": {},
     "output_type": "execute_result"
    }
   ],
   "source": [
    "outcome"
   ]
  },
  {
   "cell_type": "code",
   "execution_count": 8,
   "id": "697643b4",
   "metadata": {},
   "outputs": [
    {
     "data": {
      "text/plain": [
       "DesignMatrix with shape (8, 3)\n",
       "  Intercept        x1        x2\n",
       "          1   1.76405  -0.10322\n",
       "          1   0.40016   0.41060\n",
       "          1   0.97874   0.14404\n",
       "          1   2.24089   1.45427\n",
       "          1   1.86756   0.76104\n",
       "          1  -0.97728   0.12168\n",
       "          1   0.95009   0.44386\n",
       "          1  -0.15136   0.33367\n",
       "  Terms:\n",
       "    'Intercept' (column 0)\n",
       "    'x1' (column 1)\n",
       "    'x2' (column 2)"
      ]
     },
     "execution_count": 8,
     "metadata": {},
     "output_type": "execute_result"
    }
   ],
   "source": [
    "predictors"
   ]
  },
  {
   "cell_type": "code",
   "execution_count": null,
   "id": "ea77aedf",
   "metadata": {},
   "outputs": [
    {
     "ename": "PatsyError",
     "evalue": "encountered outcome variables for a model that does not expect them",
     "output_type": "error",
     "traceback": [
      "\u001b[31m---------------------------------------------------------------------------\u001b[39m",
      "\u001b[31mPatsyError\u001b[39m                                Traceback (most recent call last)",
      "\u001b[36mCell\u001b[39m\u001b[36m \u001b[39m\u001b[32mIn[9]\u001b[39m\u001b[32m, line 1\u001b[39m\n\u001b[32m----> \u001b[39m\u001b[32m1\u001b[39m \u001b[43mdmatrix\u001b[49m\u001b[43m(\u001b[49m\u001b[33;43m\"\u001b[39;49m\u001b[33;43my ~ x1 + x2\u001b[39;49m\u001b[33;43m\"\u001b[39;49m\u001b[43m,\u001b[49m\u001b[43m \u001b[49m\u001b[43mdata\u001b[49m\u001b[43m)\u001b[49m\n",
      "\u001b[36mFile \u001b[39m\u001b[32m~/Developer/stats/.venv/lib/python3.13/site-packages/patsy/highlevel.py:300\u001b[39m, in \u001b[36mdmatrix\u001b[39m\u001b[34m(formula_like, data, eval_env, NA_action, return_type)\u001b[39m\n\u001b[32m    296\u001b[39m (lhs, rhs) = _do_highlevel_design(\n\u001b[32m    297\u001b[39m     formula_like, data, eval_env, NA_action, return_type\n\u001b[32m    298\u001b[39m )\n\u001b[32m    299\u001b[39m \u001b[38;5;28;01mif\u001b[39;00m lhs.shape[\u001b[32m1\u001b[39m] != \u001b[32m0\u001b[39m:\n\u001b[32m--> \u001b[39m\u001b[32m300\u001b[39m     \u001b[38;5;28;01mraise\u001b[39;00m PatsyError(\n\u001b[32m    301\u001b[39m         \u001b[33m\"\u001b[39m\u001b[33mencountered outcome variables for a model \u001b[39m\u001b[33m\"\u001b[39m \u001b[33m\"\u001b[39m\u001b[33mthat does not expect them\u001b[39m\u001b[33m\"\u001b[39m\n\u001b[32m    302\u001b[39m     )\n\u001b[32m    303\u001b[39m \u001b[38;5;28;01mreturn\u001b[39;00m rhs\n",
      "\u001b[31mPatsyError\u001b[39m: encountered outcome variables for a model that does not expect them"
     ]
    }
   ],
   "source": [
    "dmatrix(\"x1 + x2\", data)"
   ]
  }
 ],
 "metadata": {
  "kernelspec": {
   "display_name": "stats",
   "language": "python",
   "name": "python3"
  },
  "language_info": {
   "codemirror_mode": {
    "name": "ipython",
    "version": 3
   },
   "file_extension": ".py",
   "mimetype": "text/x-python",
   "name": "python",
   "nbconvert_exporter": "python",
   "pygments_lexer": "ipython3",
   "version": "3.13.6"
  }
 },
 "nbformat": 4,
 "nbformat_minor": 5
}
